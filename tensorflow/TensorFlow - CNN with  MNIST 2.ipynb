{
 "cells": [
  {
   "cell_type": "code",
   "execution_count": 47,
   "metadata": {},
   "outputs": [],
   "source": [
    "import tensorflow as tf\n",
    "from tensorflow.examples.tutorials.mnist import input_data"
   ]
  },
  {
   "cell_type": "code",
   "execution_count": 48,
   "metadata": {},
   "outputs": [
    {
     "name": "stdout",
     "output_type": "stream",
     "text": [
      "Extracting MNIST-dataset/train-images-idx3-ubyte.gz\n",
      "Extracting MNIST-dataset/train-labels-idx1-ubyte.gz\n",
      "Extracting MNIST-dataset/t10k-images-idx3-ubyte.gz\n",
      "Extracting MNIST-dataset/t10k-labels-idx1-ubyte.gz\n"
     ]
    }
   ],
   "source": [
    "mnist = input_data.read_data_sets(\"MNIST-dataset/\",one_hot=True)"
   ]
  },
  {
   "cell_type": "code",
   "execution_count": 49,
   "metadata": {},
   "outputs": [],
   "source": [
    "# HELPER\n",
    "# INIT WEIGHTS"
   ]
  },
  {
   "cell_type": "code",
   "execution_count": 50,
   "metadata": {},
   "outputs": [],
   "source": [
    "def init_weights(shape):\n",
    "    init_random_dist = tf.truncated_normal(shape, stddev=0.1)\n",
    "    return tf.Variable(init_random_dist)"
   ]
  },
  {
   "cell_type": "code",
   "execution_count": 51,
   "metadata": {},
   "outputs": [],
   "source": [
    "# INIT BIAS\n",
    "def init_bias(shape):\n",
    "    init_bias_vals = tf.constant(0.1, shape=shape)\n",
    "    return tf.Variable(init_bias_vals)"
   ]
  },
  {
   "cell_type": "code",
   "execution_count": 52,
   "metadata": {},
   "outputs": [],
   "source": [
    "# CONV2D\n",
    "def conv2d(x,W):\n",
    "    # x --> [batch, H, W, channels]\n",
    "    # W --> [filter H, filter W, Channels IN, Channels OUT]\n",
    "    return tf.nn.conv2d(x,W,strides=[1,1,1,1],padding='SAME')"
   ]
  },
  {
   "cell_type": "code",
   "execution_count": 53,
   "metadata": {},
   "outputs": [],
   "source": [
    "# POOLING\n",
    "def max_pool_2by2(x):\n",
    "    # x --> [batch,h,w,c]\n",
    "    return tf.nn.max_pool(x,ksize=[1,2,2,1],strides=[1,2,2,1], padding='SAME')"
   ]
  },
  {
   "cell_type": "code",
   "execution_count": 54,
   "metadata": {},
   "outputs": [],
   "source": [
    "# CONVOLUTIONAL LAYER\n",
    "def convolutional_layer(input_x,shape):\n",
    "    W = init_wheights(shape)\n",
    "    b = init_bias([shape[3]])\n",
    "    return tf.nn.relu(conv2d(input_x,W)+b)"
   ]
  },
  {
   "cell_type": "code",
   "execution_count": 55,
   "metadata": {},
   "outputs": [],
   "source": [
    "# NORMAL (FULLY CONNECTED)\n",
    "def normal_full_layer(input_layer,size):\n",
    "    input_size = int(input_layer.get_shape()[1])\n",
    "    W = init_wheights([input_size, size])\n",
    "    b = init_bias([size])\n",
    "    return tf.matmul(input_layer,W)+b"
   ]
  },
  {
   "cell_type": "code",
   "execution_count": 56,
   "metadata": {},
   "outputs": [],
   "source": [
    "# PLACEHOLDERS\n",
    "x = tf.placeholder(tf.float32,shape=[None,784])"
   ]
  },
  {
   "cell_type": "code",
   "execution_count": 57,
   "metadata": {},
   "outputs": [],
   "source": [
    "y_true = tf.placeholder(tf.float32,shape=[None,10])"
   ]
  },
  {
   "cell_type": "code",
   "execution_count": 58,
   "metadata": {},
   "outputs": [],
   "source": [
    "# LAYERS (transformando os dados em imagem)\n",
    "x_image = tf.reshape(x,[-1,28,28,1])\n",
    "convo_1 = convolutional_layer(x_image,shape=[5,5,1,32])\n",
    "convo_1_pooling = max_pool_2by2(convo_1)\n",
    "convo_2 = convolutional_layer(convo_1_pooling, shape=[5,5,32,64])\n",
    "convo_2_pooling = max_pool_2by2(convo_2)\n",
    "convo_2_flat = tf.reshape(convo_2_pooling,[-1,7*7*64])\n",
    "full_layer_one = tf.nn.relu(normal_full_layer(convo_2_flat,1024))"
   ]
  },
  {
   "cell_type": "code",
   "execution_count": 59,
   "metadata": {},
   "outputs": [
    {
     "name": "stdout",
     "output_type": "stream",
     "text": [
      "WARNING:tensorflow:From <ipython-input-59-4e4c88f6a61b>:3: calling dropout (from tensorflow.python.ops.nn_ops) with keep_prob is deprecated and will be removed in a future version.\n",
      "Instructions for updating:\n",
      "Please use `rate` instead of `keep_prob`. Rate should be set to `rate = 1 - keep_prob`.\n"
     ]
    }
   ],
   "source": [
    "# DROPOUT\n",
    "hold_prob = tf.placeholder(tf.float32)\n",
    "full_one_dropout = tf.nn.dropout(full_layer_one, keep_prob=hold_prob)\n",
    "y_pred = normal_full_layer(full_one_dropout,10)"
   ]
  },
  {
   "cell_type": "code",
   "execution_count": 61,
   "metadata": {},
   "outputs": [],
   "source": [
    "# LOSS FUNCTION\n",
    "cross_entropy = tf.reduce_mean(tf.nn.softmax_cross_entropy_with_logits(labels=y_true,logits=y_pred))"
   ]
  },
  {
   "cell_type": "code",
   "execution_count": 63,
   "metadata": {},
   "outputs": [],
   "source": [
    "# OPTIMIZER\n",
    "optmizer = tf.train.AdadeltaOptimizer(learning_rate=0.001)\n",
    "train = optmizer.minimize(cross_entropy)"
   ]
  },
  {
   "cell_type": "code",
   "execution_count": 64,
   "metadata": {},
   "outputs": [],
   "source": [
    "init = tf.global_variables_initializer()"
   ]
  },
  {
   "cell_type": "code",
   "execution_count": null,
   "metadata": {},
   "outputs": [
    {
     "name": "stdout",
     "output_type": "stream",
     "text": [
      "ON STEP: 0\n",
      "ACCURACY: \n",
      "0.1243\n",
      "\n",
      "\n",
      "ON STEP: 100\n",
      "ACCURACY: \n",
      "0.1307\n",
      "\n",
      "\n",
      "ON STEP: 200\n",
      "ACCURACY: \n",
      "0.1336\n",
      "\n",
      "\n",
      "ON STEP: 300\n",
      "ACCURACY: \n",
      "0.1369\n",
      "\n",
      "\n",
      "ON STEP: 400\n",
      "ACCURACY: \n",
      "0.1387\n",
      "\n",
      "\n",
      "ON STEP: 500\n",
      "ACCURACY: \n",
      "0.1404\n",
      "\n",
      "\n",
      "ON STEP: 600\n",
      "ACCURACY: \n",
      "0.1401\n",
      "\n",
      "\n",
      "ON STEP: 700\n",
      "ACCURACY: \n"
     ]
    }
   ],
   "source": [
    "steps = 5000\n",
    "with tf.Session() as sess:\n",
    "    sess.run(init)\n",
    "    for i in range(steps):\n",
    "        batch_x, batch_y = mnist.train.next_batch(50)\n",
    "        sess.run(train, feed_dict={x:batch_x, y_true:batch_y, hold_prob:0.5})\n",
    "        if i%100 == 0:\n",
    "            print(\"ON STEP: {}\".format(i))\n",
    "            print(\"ACCURACY: \")\n",
    "            matches = tf.equal(tf.argmax(y_pred,1),tf.argmax(y_true,1))\n",
    "            acc = tf.reduce_mean(tf.cast(matches,tf.float32))\n",
    "            print(sess.run(acc,feed_dict={x:mnist.test.images,y_true:mnist.test.labels,hold_prob:1.0}))\n",
    "            print(\"\\n\")"
   ]
  },
  {
   "cell_type": "code",
   "execution_count": null,
   "metadata": {},
   "outputs": [],
   "source": []
  }
 ],
 "metadata": {
  "kernelspec": {
   "display_name": "Python 3",
   "language": "python",
   "name": "python3"
  },
  "language_info": {
   "codemirror_mode": {
    "name": "ipython",
    "version": 3
   },
   "file_extension": ".py",
   "mimetype": "text/x-python",
   "name": "python",
   "nbconvert_exporter": "python",
   "pygments_lexer": "ipython3",
   "version": "3.7.4"
  }
 },
 "nbformat": 4,
 "nbformat_minor": 2
}
