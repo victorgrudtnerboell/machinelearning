{
 "cells": [
  {
   "cell_type": "code",
   "execution_count": 19,
   "metadata": {},
   "outputs": [],
   "source": [
    "# -*- encoding: utf-8 -*-\n",
    "\n",
    "import matplotlib.pyplot as plt\n",
    "from keras.models import Sequential\n",
    "from keras.layers import Dense, Dropout\n",
    "from keras.utils import np_utils\n",
    "import numpy as np\n",
    "from sklearn.metrics import confusion_matrix\n",
    "from keras.datasets import mnist"
   ]
  },
  {
   "cell_type": "code",
   "execution_count": 20,
   "metadata": {},
   "outputs": [],
   "source": [
    "#Carregando a base de dados\n",
    "(x_treinamento, y_treinamento), (x_teste, y_teste) = mnist.load_data()"
   ]
  },
  {
   "cell_type": "code",
   "execution_count": 21,
   "metadata": {},
   "outputs": [
    {
     "data": {
      "text/plain": [
       "Text(0.5, 1.0, '4')"
      ]
     },
     "execution_count": 21,
     "metadata": {},
     "output_type": "execute_result"
    },
    {
     "data": {
      "image/png": "[encoded data removed]",
      "text/plain": [
       "<Figure size 432x288 with 1 Axes>"
      ]
     },
     "metadata": {
      "needs_background": "light"
     },
     "output_type": "display_data"
    }
   ],
   "source": [
    "#Visualizando algumas imagens\n",
    "plt.imshow(x_treinamento[2], cmap = 'gray')\n",
    "plt.title(y_treinamento[2])"
   ]
  },
  {
   "cell_type": "code",
   "execution_count": 22,
   "metadata": {},
   "outputs": [],
   "source": [
    "#Preprocessando os dados para ajustes dos valores, multiplicando o tamanho da imagem 28*28=748, uint8 para float,\n",
    "#basicamente nomalizando a base\n",
    "x_treinamento = x_treinamento.reshape((len(x_treinamento), np.prod(x_treinamento.shape[1:])))\n",
    "x_teste = x_teste.reshape((len(x_teste), np.prod(x_teste.shape[1:])))\n",
    "x_treinamento = x_treinamento.astype('float32')\n",
    "x_teste = x_teste.astype('float32')\n",
    "x_treinamento /= 255\n",
    "x_teste /= 255\n",
    "#Já que se tem mais de 10 classes de saída\n",
    "y_treinamento = np_utils.to_categorical(y_treinamento, 10)\n",
    "y_teste = np_utils.to_categorical(y_teste, 10)"
   ]
  },
  {
   "cell_type": "code",
   "execution_count": 23,
   "metadata": {},
   "outputs": [],
   "source": [
    "#Criand a Deep Learn\n",
    "modelo = Sequential()\n",
    "modelo.add(Dense(units=64, activation = 'relu', input_dim=784))\n",
    "#Tentando evitar overfitting\n",
    "modelo.add(Dropout(0.2))\n",
    "modelo.add(Dense(units=64, activation = 'relu'))\n",
    "modelo.add(Dropout(0.2))\n",
    "modelo.add(Dense(units=64, activation = 'relu'))\n",
    "modelo.add(Dropout(0.2))\n",
    "modelo.add(Dense(units = 10, activation = 'softmax'))\n"
   ]
  },
  {
   "cell_type": "code",
   "execution_count": 24,
   "metadata": {},
   "outputs": [
    {
     "name": "stdout",
     "output_type": "stream",
     "text": [
      "Model: \"sequential_2\"\n",
      "_________________________________________________________________\n",
      "Layer (type)                 Output Shape              Param #   \n",
      "=================================================================\n",
      "dense_5 (Dense)              (None, 64)                50240     \n",
      "_________________________________________________________________\n",
      "dropout_4 (Dropout)          (None, 64)                0         \n",
      "_________________________________________________________________\n",
      "dense_6 (Dense)              (None, 64)                4160      \n",
      "_________________________________________________________________\n",
      "dropout_5 (Dropout)          (None, 64)                0         \n",
      "_________________________________________________________________\n",
      "dense_7 (Dense)              (None, 64)                4160      \n",
      "_________________________________________________________________\n",
      "dropout_6 (Dropout)          (None, 64)                0         \n",
      "_________________________________________________________________\n",
      "dense_8 (Dense)              (None, 10)                650       \n",
      "=================================================================\n",
      "Total params: 59,210\n",
      "Trainable params: 59,210\n",
      "Non-trainable params: 0\n",
      "_________________________________________________________________\n"
     ]
    }
   ],
   "source": [
    "#Vendo detalhes da rede\n",
    "modelo.summary()"
   ]
  },
  {
   "cell_type": "code",
   "execution_count": 25,
   "metadata": {},
   "outputs": [],
   "source": [
    "#Compilando a rede\n",
    "modelo.compile(optimizer = 'adam', loss = 'categorical_crossentropy', metrics=['accuracy'])"
   ]
  },
  {
   "cell_type": "code",
   "execution_count": 26,
   "metadata": {},
   "outputs": [
    {
     "name": "stdout",
     "output_type": "stream",
     "text": [
      "WARNING:tensorflow:From /Users/victor/opt/anaconda3/lib/python3.7/site-packages/tensorflow/python/ops/math_ops.py:3066: to_int32 (from tensorflow.python.ops.math_ops) is deprecated and will be removed in a future version.\n",
      "Instructions for updating:\n",
      "Use tf.cast instead.\n",
      "Train on 60000 samples, validate on 10000 samples\n",
      "Epoch 1/20\n",
      "60000/60000 [==============================] - 6s 95us/step - loss: 0.4482 - accuracy: 0.8637 - val_loss: 0.1765 - val_accuracy: 0.9478\n",
      "Epoch 2/20\n",
      "60000/60000 [==============================] - 5s 89us/step - loss: 0.2291 - accuracy: 0.9344 - val_loss: 0.1438 - val_accuracy: 0.9576\n",
      "Epoch 3/20\n",
      "60000/60000 [==============================] - 5s 88us/step - loss: 0.1917 - accuracy: 0.9449 - val_loss: 0.1250 - val_accuracy: 0.9625\n",
      "Epoch 4/20\n",
      "60000/60000 [==============================] - 5s 88us/step - loss: 0.1650 - accuracy: 0.9526 - val_loss: 0.1168 - val_accuracy: 0.9662\n",
      "Epoch 5/20\n",
      "60000/60000 [==============================] - 5s 88us/step - loss: 0.1524 - accuracy: 0.9551 - val_loss: 0.1045 - val_accuracy: 0.9706\n",
      "Epoch 6/20\n",
      "60000/60000 [==============================] - 5s 89us/step - loss: 0.1396 - accuracy: 0.9591 - val_loss: 0.0989 - val_accuracy: 0.9709\n",
      "Epoch 7/20\n",
      "60000/60000 [==============================] - 5s 89us/step - loss: 0.1317 - accuracy: 0.9610 - val_loss: 0.0926 - val_accuracy: 0.9741\n",
      "Epoch 8/20\n",
      "60000/60000 [==============================] - 5s 89us/step - loss: 0.1228 - accuracy: 0.9639 - val_loss: 0.0965 - val_accuracy: 0.9730\n",
      "Epoch 9/20\n",
      "60000/60000 [==============================] - 5s 89us/step - loss: 0.1167 - accuracy: 0.9651 - val_loss: 0.0979 - val_accuracy: 0.9716\n",
      "Epoch 10/20\n",
      "60000/60000 [==============================] - 5s 90us/step - loss: 0.1134 - accuracy: 0.9658 - val_loss: 0.0970 - val_accuracy: 0.9715\n",
      "Epoch 11/20\n",
      "60000/60000 [==============================] - 6s 96us/step - loss: 0.1115 - accuracy: 0.9663 - val_loss: 0.0923 - val_accuracy: 0.9742\n",
      "Epoch 12/20\n",
      "60000/60000 [==============================] - 6s 108us/step - loss: 0.1039 - accuracy: 0.9686 - val_loss: 0.0843 - val_accuracy: 0.9762\n",
      "Epoch 13/20\n",
      "60000/60000 [==============================] - 7s 116us/step - loss: 0.1030 - accuracy: 0.9695 - val_loss: 0.0893 - val_accuracy: 0.9761\n",
      "Epoch 14/20\n",
      "60000/60000 [==============================] - 7s 109us/step - loss: 0.0991 - accuracy: 0.9700 - val_loss: 0.0841 - val_accuracy: 0.9760\n",
      "Epoch 15/20\n",
      "60000/60000 [==============================] - 7s 110us/step - loss: 0.0971 - accuracy: 0.9709 - val_loss: 0.0820 - val_accuracy: 0.9772\n",
      "Epoch 16/20\n",
      "60000/60000 [==============================] - 7s 111us/step - loss: 0.0948 - accuracy: 0.9716 - val_loss: 0.0938 - val_accuracy: 0.9735\n",
      "Epoch 17/20\n",
      "60000/60000 [==============================] - 7s 110us/step - loss: 0.0946 - accuracy: 0.9718 - val_loss: 0.0905 - val_accuracy: 0.9764\n",
      "Epoch 18/20\n",
      "60000/60000 [==============================] - 7s 112us/step - loss: 0.0896 - accuracy: 0.9731 - val_loss: 0.0907 - val_accuracy: 0.9777\n",
      "Epoch 19/20\n",
      "60000/60000 [==============================] - 7s 116us/step - loss: 0.0881 - accuracy: 0.9735 - val_loss: 0.0916 - val_accuracy: 0.9762\n",
      "Epoch 20/20\n",
      "60000/60000 [==============================] - 7s 115us/step - loss: 0.0884 - accuracy: 0.9733 - val_loss: 0.0899 - val_accuracy: 0.9762\n"
     ]
    }
   ],
   "source": [
    "#Treinando a rede\n",
    "historico = modelo.fit(x_treinamento, y_treinamento, epochs =20, validation_data = (x_teste, y_teste))"
   ]
  },
  {
   "cell_type": "code",
   "execution_count": 28,
   "metadata": {},
   "outputs": [
    {
     "data": {
      "text/plain": [
       "dict_keys(['val_loss', 'val_accuracy', 'loss', 'accuracy'])"
      ]
     },
     "execution_count": 28,
     "metadata": {},
     "output_type": "execute_result"
    }
   ],
   "source": [
    "#Vendo informações do treinamento\n",
    "historico.history.keys()"
   ]
  },
  {
   "cell_type": "code",
   "execution_count": 29,
   "metadata": {},
   "outputs": [
    {
     "data": {
      "text/plain": [
       "[<matplotlib.lines.Line2D at 0x1a3b42c550>]"
      ]
     },
     "execution_count": 29,
     "metadata": {},
     "output_type": "execute_result"
    },
    {
     "data": {
      "image/png": "[encoded data removed]",
      "text/plain": [
       "<Figure size 432x288 with 1 Axes>"
      ]
     },
     "metadata": {
      "needs_background": "light"
     },
     "output_type": "display_data"
    }
   ],
   "source": [
    "plt.plot(historico.history['val_loss'])\n"
   ]
  },
  {
   "cell_type": "code",
   "execution_count": 31,
   "metadata": {},
   "outputs": [
    {
     "data": {
      "text/plain": [
       "[<matplotlib.lines.Line2D at 0x1a346e2150>]"
      ]
     },
     "execution_count": 31,
     "metadata": {},
     "output_type": "execute_result"
    },
    {
     "data": {
      "image/png": "[encoded data removed]",
      "text/plain": [
       "<Figure size 432x288 with 1 Axes>"
      ]
     },
     "metadata": {
      "needs_background": "light"
     },
     "output_type": "display_data"
    }
   ],
   "source": [
    "plt.plot(historico.history['val_accuracy'])"
   ]
  },
  {
   "cell_type": "code",
   "execution_count": 33,
   "metadata": {},
   "outputs": [],
   "source": [
    "#criando as previsões usando o modelo treinado e visualizando\n",
    "previsoes = modelo.predict(x_teste)\n",
    "y_teste_matriz = [np.argmax(t) for t in y_teste]\n",
    "y_previsoes_matriz = [np.argmax(t) for t in previsoes]\n",
    "confusao = confusion_matrix(y_teste_matriz, y_previsoes_matriz)"
   ]
  },
  {
   "cell_type": "code",
   "execution_count": 34,
   "metadata": {},
   "outputs": [
    {
     "data": {
      "text/plain": [
       "array([[ 971,    0,    1,    2,    1,    2,    1,    1,    1,    0],\n",
       "       [   0, 1122,    2,    2,    0,    1,    1,    1,    6,    0],\n",
       "       [   3,    1, 1009,    8,    3,    0,    1,    6,    1,    0],\n",
       "       [   0,    0,    2,  994,    0,    3,    0,    6,    4,    1],\n",
       "       [   0,    0,    3,    0,  960,    0,    7,    3,    0,    9],\n",
       "       [   2,    1,    0,   16,    1,  865,    1,    0,    3,    3],\n",
       "       [   3,    3,    0,    0,    7,   10,  933,    0,    2,    0],\n",
       "       [   3,    3,    9,    6,    0,    0,    0, 1002,    0,    5],\n",
       "       [   4,    1,    2,    5,    6,    9,    2,    3,  939,    3],\n",
       "       [   4,    3,    0,    6,   17,    2,    0,    5,    5,  967]])"
      ]
     },
     "execution_count": 34,
     "metadata": {},
     "output_type": "execute_result"
    }
   ],
   "source": [
    "confusao"
   ]
  },
  {
   "cell_type": "code",
   "execution_count": 35,
   "metadata": {},
   "outputs": [],
   "source": [
    "#Testando uma previsao\n",
    "y_treinamento[20]\n",
    "x_treinamento[20]\n",
    "novo = x_treinamento[20]\n",
    "novo = np.expand_dims(novo, axis = 0)\n",
    "pred = modelo.predict(novo)"
   ]
  },
  {
   "cell_type": "code",
   "execution_count": 36,
   "metadata": {},
   "outputs": [
    {
     "data": {
      "text/plain": [
       "array([[1.2879365e-13, 3.7315620e-13, 9.1293681e-11, 2.2454245e-16,\n",
       "        1.0000000e+00, 1.1075893e-12, 5.9660624e-11, 1.8005023e-12,\n",
       "        1.4499148e-13, 2.0360828e-10]], dtype=float32)"
      ]
     },
     "execution_count": 36,
     "metadata": {},
     "output_type": "execute_result"
    }
   ],
   "source": [
    "pred"
   ]
  },
  {
   "cell_type": "code",
   "execution_count": null,
   "metadata": {},
   "outputs": [],
   "source": []
  }
 ],
 "metadata": {
  "kernelspec": {
   "display_name": "Python 3",
   "language": "python",
   "name": "python3"
  },
  "language_info": {
   "codemirror_mode": {
    "name": "ipython",
    "version": 3
   },
   "file_extension": ".py",
   "mimetype": "text/x-python",
   "name": "python",
   "nbconvert_exporter": "python",
   "pygments_lexer": "ipython3",
   "version": "3.7.4"
  }
 },
 "nbformat": 4,
 "nbformat_minor": 2
}
