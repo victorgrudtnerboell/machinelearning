{
 "cells": [
  {
   "cell_type": "code",
   "execution_count": 28,
   "metadata": {},
   "outputs": [],
   "source": [
    "# -*- encoding: utf-8 -*-\n",
    "\n",
    "#GERAR A MATRIZ DE CONFUSÃO\n",
    "\n",
    "import pandas as pd\n",
    "from sklearn.model_selection import train_test_split\n",
    "from sklearn.preprocessing import LabelEncoder\n",
    "from sklearn.metrics import confusion_matrix, accuracy_score\n",
    "from sklearn.svm import SVC\n",
    "from sklearn.ensemble import ExtraTreesClassifier"
   ]
  },
  {
   "cell_type": "code",
   "execution_count": 29,
   "metadata": {},
   "outputs": [],
   "source": [
    "#Lendo os dados de entrada e separando os previsores das classes\n",
    "credito = pd.read_csv('dados/Credit.csv')\n",
    "previsores = credito.iloc[:,0:20].values\n",
    "classe = credito.iloc[:,20].values"
   ]
  },
  {
   "cell_type": "code",
   "execution_count": 30,
   "metadata": {},
   "outputs": [],
   "source": [
    "#O SVM não trabalha com dados categóricos é melhor \n",
    "#arrumar os dados para numéricos com LabelEncoder"
   ]
  },
  {
   "cell_type": "code",
   "execution_count": 31,
   "metadata": {},
   "outputs": [],
   "source": [
    "labelEncoder = LabelEncoder()\n",
    "previsores[:,0] = labelEncoder.fit_transform(previsores[:,0])\n",
    "previsores[:,2] = labelEncoder.fit_transform(previsores[:,2])\n",
    "previsores[:,3] = labelEncoder.fit_transform(previsores[:,3])\n",
    "previsores[:,5] = labelEncoder.fit_transform(previsores[:,5])\n",
    "previsores[:,6] = labelEncoder.fit_transform(previsores[:,6])\n",
    "previsores[:,8] = labelEncoder.fit_transform(previsores[:,8])\n",
    "previsores[:,9] = labelEncoder.fit_transform(previsores[:,9])\n",
    "previsores[:,11] = labelEncoder.fit_transform(previsores[:,11])\n",
    "previsores[:,13] = labelEncoder.fit_transform(previsores[:,13])\n",
    "previsores[:,14] = labelEncoder.fit_transform(previsores[:,14])\n",
    "previsores[:,16] = labelEncoder.fit_transform(previsores[:,16])\n",
    "previsores[:,18] = labelEncoder.fit_transform(previsores[:,18])\n",
    "previsores[:,19] = labelEncoder.fit_transform(previsores[:,19])"
   ]
  },
  {
   "cell_type": "code",
   "execution_count": 32,
   "metadata": {},
   "outputs": [],
   "source": [
    "#Ajustando o dados de treinamento e validação/teste\n",
    "x_treinamento, x_teste, y_treinamento, y_teste = train_test_split(previsores, classe, test_size = 0.3, random_state = 0)"
   ]
  },
  {
   "cell_type": "code",
   "execution_count": 33,
   "metadata": {},
   "outputs": [
    {
     "name": "stderr",
     "output_type": "stream",
     "text": [
      "/Users/victor/opt/anaconda3/lib/python3.7/site-packages/sklearn/svm/base.py:193: FutureWarning: The default value of gamma will change from 'auto' to 'scale' in version 0.22 to account better for unscaled features. Set gamma explicitly to 'auto' or 'scale' to avoid this warning.\n",
      "  \"avoid this warning.\", FutureWarning)\n"
     ]
    }
   ],
   "source": [
    "#Gerando o modelo de SVM com todos os atributos\n",
    "#Verificar o valor do gama para o treinamento do SVM e C \n",
    "svm = SVC()\n",
    "svm.fit(x_treinamento, y_treinamento)\n",
    "previsoes = svm.predict(x_teste)\n",
    "taxa_acerto = accuracy_score(y_teste, previsoes)"
   ]
  },
  {
   "cell_type": "code",
   "execution_count": 34,
   "metadata": {},
   "outputs": [
    {
     "name": "stderr",
     "output_type": "stream",
     "text": [
      "/Users/victor/opt/anaconda3/lib/python3.7/site-packages/sklearn/ensemble/forest.py:245: FutureWarning: The default value of n_estimators will change from 10 in version 0.20 to 100 in 0.22.\n",
      "  \"10 in version 0.20 to 100 in 0.22.\", FutureWarning)\n"
     ]
    }
   ],
   "source": [
    "#Identificando os atributos mais relevantes\n",
    "#Analisar o n_estimators\n",
    "forest = ExtraTreesClassifier()\n",
    "forest.fit(x_treinamento, y_treinamento)\n",
    "importancias = forest.feature_importances_"
   ]
  },
  {
   "cell_type": "code",
   "execution_count": 35,
   "metadata": {},
   "outputs": [],
   "source": [
    "#Escolhendo os atributos com os maiores valores\n",
    "x_treinamento2 = x_treinamento[:,[0,1,2,3]]\n",
    "x_teste2 = x_teste[:,[0,1,2,3]]"
   ]
  },
  {
   "cell_type": "code",
   "execution_count": 36,
   "metadata": {},
   "outputs": [
    {
     "name": "stderr",
     "output_type": "stream",
     "text": [
      "/Users/victor/opt/anaconda3/lib/python3.7/site-packages/sklearn/svm/base.py:193: FutureWarning: The default value of gamma will change from 'auto' to 'scale' in version 0.22 to account better for unscaled features. Set gamma explicitly to 'auto' or 'scale' to avoid this warning.\n",
      "  \"avoid this warning.\", FutureWarning)\n"
     ]
    }
   ],
   "source": [
    "#Gerando o modelo de SVM com todos os atributos selecionados\n",
    "svm2 = SVC()\n",
    "svm2.fit(x_treinamento2, y_treinamento)\n",
    "previsoes = svm2.predict(x_teste2)\n",
    "taxa_acerto2 = accuracy_score(y_teste, previsoes)"
   ]
  },
  {
   "cell_type": "code",
   "execution_count": 37,
   "metadata": {},
   "outputs": [
    {
     "data": {
      "text/plain": [
       "0.7133333333333334"
      ]
     },
     "execution_count": 37,
     "metadata": {},
     "output_type": "execute_result"
    }
   ],
   "source": [
    "taxa_acerto\n"
   ]
  },
  {
   "cell_type": "code",
   "execution_count": 38,
   "metadata": {},
   "outputs": [
    {
     "data": {
      "text/plain": [
       "0.7266666666666667"
      ]
     },
     "execution_count": 38,
     "metadata": {},
     "output_type": "execute_result"
    }
   ],
   "source": [
    "taxa_acerto2"
   ]
  }
 ],
 "metadata": {
  "kernelspec": {
   "display_name": "Python 3",
   "language": "python",
   "name": "python3"
  },
  "language_info": {
   "codemirror_mode": {
    "name": "ipython",
    "version": 3
   },
   "file_extension": ".py",
   "mimetype": "text/x-python",
   "name": "python",
   "nbconvert_exporter": "python",
   "pygments_lexer": "ipython3",
   "version": "3.7.4"
  }
 },
 "nbformat": 4,
 "nbformat_minor": 2
}
