{
 "cells": [
  {
   "cell_type": "code",
   "execution_count": 24,
   "metadata": {},
   "outputs": [],
   "source": [
    "# -*- encoding: utf-8 -*-\n",
    "\n",
    "import graphviz\n",
    "import pandas as pd\n",
    "from sklearn.model_selection import train_test_split\n",
    "from sklearn.preprocessing import LabelEncoder\n",
    "from sklearn.metrics import confusion_matrix, accuracy_score\n",
    "from sklearn.tree import DecisionTreeClassifier\n",
    "from sklearn.tree import export_graphviz\n",
    "from yellowbrick.classifier import ConfusionMatrix"
   ]
  },
  {
   "cell_type": "code",
   "execution_count": 25,
   "metadata": {},
   "outputs": [],
   "source": [
    "#Lendo os dados de entrada e separando os previsores das classes\n",
    "credito = pd.read_csv('dados/Credit.csv')\n",
    "previsores = credito.iloc[:,0:20].values\n",
    "classe = credito.iloc[:,20].values"
   ]
  },
  {
   "cell_type": "code",
   "execution_count": 26,
   "metadata": {},
   "outputs": [],
   "source": [
    "#Apesar da árvore de decisão trabalhar com dados categóricos é melhor \n",
    "#arrumar os dados para numéricos com LabelEncoder"
   ]
  },
  {
   "cell_type": "code",
   "execution_count": 27,
   "metadata": {},
   "outputs": [],
   "source": [
    "labelEncoder = LabelEncoder()\n",
    "previsores[:,0] = labelEncoder.fit_transform(previsores[:,0])\n",
    "previsores[:,2] = labelEncoder.fit_transform(previsores[:,2])\n",
    "previsores[:,3] = labelEncoder.fit_transform(previsores[:,3])\n",
    "previsores[:,5] = labelEncoder.fit_transform(previsores[:,5])\n",
    "previsores[:,6] = labelEncoder.fit_transform(previsores[:,6])\n",
    "previsores[:,8] = labelEncoder.fit_transform(previsores[:,8])\n",
    "previsores[:,9] = labelEncoder.fit_transform(previsores[:,9])\n",
    "previsores[:,11] = labelEncoder.fit_transform(previsores[:,11])\n",
    "previsores[:,13] = labelEncoder.fit_transform(previsores[:,13])\n",
    "previsores[:,14] = labelEncoder.fit_transform(previsores[:,14])\n",
    "previsores[:,16] = labelEncoder.fit_transform(previsores[:,16])\n",
    "previsores[:,18] = labelEncoder.fit_transform(previsores[:,18])\n",
    "previsores[:,19] = labelEncoder.fit_transform(previsores[:,19])"
   ]
  },
  {
   "cell_type": "code",
   "execution_count": 28,
   "metadata": {},
   "outputs": [],
   "source": [
    "#Ajustando o dados de treinamento e validação/teste\n",
    "x_treinamento, x_teste, y_treinamento, y_teste = train_test_split(previsores, classe, test_size = 0.3, random_state = 0)"
   ]
  },
  {
   "cell_type": "code",
   "execution_count": 29,
   "metadata": {},
   "outputs": [
    {
     "data": {
      "text/plain": [
       "DecisionTreeClassifier(class_weight=None, criterion='gini', max_depth=None,\n",
       "                       max_features=None, max_leaf_nodes=None,\n",
       "                       min_impurity_decrease=0.0, min_impurity_split=None,\n",
       "                       min_samples_leaf=1, min_samples_split=2,\n",
       "                       min_weight_fraction_leaf=0.0, presort=False,\n",
       "                       random_state=None, splitter='best')"
      ]
     },
     "execution_count": 29,
     "metadata": {},
     "output_type": "execute_result"
    }
   ],
   "source": [
    "#Gerando o modelo da árvore de decisão\n",
    "arvore = DecisionTreeClassifier()\n",
    "arvore.fit(x_treinamento, y_treinamento)"
   ]
  },
  {
   "cell_type": "code",
   "execution_count": 30,
   "metadata": {},
   "outputs": [],
   "source": [
    "#Visualizar a árvore (Usar o arquivo em http://www.webgraphviz.com)\n",
    "export_graphviz(arvore, out_file ='dados/tree.dot')"
   ]
  },
  {
   "cell_type": "code",
   "execution_count": 31,
   "metadata": {},
   "outputs": [],
   "source": [
    "#Fazendo as previsões\n",
    "previsoes = arvore.predict(x_teste)\n",
    "confusao = confusion_matrix(y_teste, previsoes)\n",
    "taxa_acerto = accuracy_score(y_teste, previsoes)\n",
    "taxa_erro = 1 - taxa_acerto"
   ]
  },
  {
   "cell_type": "code",
   "execution_count": 32,
   "metadata": {},
   "outputs": [
    {
     "data": {
      "image/png": "[encoded data removed]",
      "text/plain": [
       "<Figure size 432x288 with 1 Axes>"
      ]
     },
     "metadata": {
      "needs_background": "light"
     },
     "output_type": "display_data"
    },
    {
     "data": {
      "text/plain": [
       "<matplotlib.axes._subplots.AxesSubplot at 0x1c19e8d350>"
      ]
     },
     "execution_count": 32,
     "metadata": {},
     "output_type": "execute_result"
    }
   ],
   "source": [
    "#Visualizando melhor os resultados com yellowbricks\n",
    "v = ConfusionMatrix(DecisionTreeClassifier())\n",
    "v.fit(x_treinamento, y_treinamento)\n",
    "v.score(x_teste, y_teste)\n",
    "v.poof()"
   ]
  },
  {
   "cell_type": "code",
   "execution_count": null,
   "metadata": {},
   "outputs": [],
   "source": []
  }
 ],
 "metadata": {
  "kernelspec": {
   "display_name": "Python 3",
   "language": "python",
   "name": "python3"
  },
  "language_info": {
   "codemirror_mode": {
    "name": "ipython",
    "version": 3
   },
   "file_extension": ".py",
   "mimetype": "text/x-python",
   "name": "python",
   "nbconvert_exporter": "python",
   "pygments_lexer": "ipython3",
   "version": "3.7.4"
  }
 },
 "nbformat": 4,
 "nbformat_minor": 2
}
