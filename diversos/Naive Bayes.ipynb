{
 "cells": [
  {
   "cell_type": "code",
   "execution_count": 1,
   "metadata": {},
   "outputs": [],
   "source": [
    "# -*- encoding: utf-8 -*-\n",
    "\n",
    "import pandas as pd\n",
    "from sklearn.model_selection import train_test_split\n",
    "from sklearn.naive_bayes import GaussianNB\n",
    "from sklearn.preprocessing import LabelEncoder\n",
    "from sklearn.metrics import confusion_matrix, accuracy_score\n",
    "from yellowbrick.classifier import ConfusionMatrix"
   ]
  },
  {
   "cell_type": "code",
   "execution_count": 2,
   "metadata": {},
   "outputs": [],
   "source": [
    "#Lendo os dados de entrada e separando os previsores das classes\n",
    "credito = pd.read_csv('dados/Credit.csv')\n",
    "previsores = credito.iloc[:,0:20].values\n",
    "classe = credito.iloc[:,20].values"
   ]
  },
  {
   "cell_type": "code",
   "execution_count": 3,
   "metadata": {},
   "outputs": [],
   "source": [
    "\n",
    "#Como o GaussianNB não trabalha com dados categóricos é necessário \n",
    "#arrumar os dados para numéricos com LabelEncoder\n"
   ]
  },
  {
   "cell_type": "code",
   "execution_count": 4,
   "metadata": {},
   "outputs": [],
   "source": [
    "labelEncoder = LabelEncoder()\n",
    "previsores[:,0] = labelEncoder.fit_transform(previsores[:,0])\n",
    "previsores[:,2] = labelEncoder.fit_transform(previsores[:,2])\n",
    "previsores[:,3] = labelEncoder.fit_transform(previsores[:,3])\n",
    "previsores[:,5] = labelEncoder.fit_transform(previsores[:,5])\n",
    "previsores[:,6] = labelEncoder.fit_transform(previsores[:,6])\n",
    "previsores[:,8] = labelEncoder.fit_transform(previsores[:,8])\n",
    "previsores[:,9] = labelEncoder.fit_transform(previsores[:,9])\n",
    "previsores[:,11] = labelEncoder.fit_transform(previsores[:,11])\n",
    "previsores[:,13] = labelEncoder.fit_transform(previsores[:,13])\n",
    "previsores[:,14] = labelEncoder.fit_transform(previsores[:,14])\n",
    "previsores[:,16] = labelEncoder.fit_transform(previsores[:,16])\n",
    "previsores[:,18] = labelEncoder.fit_transform(previsores[:,18])\n",
    "previsores[:,19] = labelEncoder.fit_transform(previsores[:,19])"
   ]
  },
  {
   "cell_type": "code",
   "execution_count": 5,
   "metadata": {},
   "outputs": [],
   "source": [
    "#Ajustando o dados de treinamento e validação/teste\n",
    "x_treinamento, x_teste, y_treinamento, y_teste = train_test_split(previsores, classe, test_size = 0.3, random_state = 0)"
   ]
  },
  {
   "cell_type": "code",
   "execution_count": 6,
   "metadata": {},
   "outputs": [
    {
     "data": {
      "text/plain": [
       "GaussianNB(priors=None, var_smoothing=1e-09)"
      ]
     },
     "execution_count": 6,
     "metadata": {},
     "output_type": "execute_result"
    }
   ],
   "source": [
    "#Gerando o modelo\n",
    "naive_bayes = GaussianNB()\n",
    "naive_bayes.fit(x_treinamento, y_treinamento)"
   ]
  },
  {
   "cell_type": "code",
   "execution_count": 9,
   "metadata": {},
   "outputs": [],
   "source": [
    "#Fazendo as previsões\n",
    "previsoes = naive_bayes.predict(x_teste)\n"
   ]
  },
  {
   "cell_type": "code",
   "execution_count": 11,
   "metadata": {},
   "outputs": [],
   "source": [
    "#Contabilizando as previsões com uma matrix de confusão e acurácia\n",
    "confusao = confusion_matrix(y_teste, previsoes)\n",
    "taxa_acerto = accuracy_score(y_teste, previsoes)\n",
    "taxa_erro = 1 - taxa_acerto"
   ]
  },
  {
   "cell_type": "code",
   "execution_count": 12,
   "metadata": {},
   "outputs": [
    {
     "data": {
      "image/png": "[encoded data removed]",
      "text/plain": [
       "<Figure size 432x288 with 1 Axes>"
      ]
     },
     "metadata": {
      "needs_background": "light"
     },
     "output_type": "display_data"
    },
    {
     "data": {
      "text/plain": [
       "<matplotlib.axes._subplots.AxesSubplot at 0x1c1c9f0fd0>"
      ]
     },
     "execution_count": 12,
     "metadata": {},
     "output_type": "execute_result"
    }
   ],
   "source": [
    "#Visualizando melhor os resultados com yellowbricks\n",
    "v = ConfusionMatrix(GaussianNB())\n",
    "v.fit(x_treinamento, y_treinamento)\n",
    "v.score(x_teste, y_teste)\n",
    "v.poof()"
   ]
  },
  {
   "cell_type": "code",
   "execution_count": 13,
   "metadata": {},
   "outputs": [],
   "source": [
    "\n",
    "#Testando com novos registros para analisar o modelo, para isso se usa os mesmos\n",
    "#comandos usados anteriormente\n"
   ]
  },
  {
   "cell_type": "code",
   "execution_count": 14,
   "metadata": {},
   "outputs": [
    {
     "data": {
      "text/plain": [
       "array(['good'], dtype='<U4')"
      ]
     },
     "execution_count": 14,
     "metadata": {},
     "output_type": "execute_result"
    }
   ],
   "source": [
    "novo_credito = pd.read_csv('dados/NovoCredit.csv')\n",
    "novo_credito = novo_credito.iloc[:,0:20].values\n",
    "novo_credito[:,0] = labelEncoder.fit_transform(novo_credito[:,0])\n",
    "novo_credito[:,2] = labelEncoder.fit_transform(novo_credito[:,2])\n",
    "novo_credito[:,3] = labelEncoder.fit_transform(novo_credito[:,3])\n",
    "novo_credito[:,5] = labelEncoder.fit_transform(novo_credito[:,5])\n",
    "novo_credito[:,6] = labelEncoder.fit_transform(novo_credito[:,6])\n",
    "novo_credito[:,8] = labelEncoder.fit_transform(novo_credito[:,8])\n",
    "novo_credito[:,9] = labelEncoder.fit_transform(novo_credito[:,9])\n",
    "novo_credito[:,11] = labelEncoder.fit_transform(novo_credito[:,11])\n",
    "novo_credito[:,13] = labelEncoder.fit_transform(novo_credito[:,13])\n",
    "novo_credito[:,14] = labelEncoder.fit_transform(novo_credito[:,14])\n",
    "novo_credito[:,16] = labelEncoder.fit_transform(novo_credito[:,16])\n",
    "novo_credito[:,18] = labelEncoder.fit_transform(novo_credito[:,18])\n",
    "novo_credito[:,19] = labelEncoder.fit_transform(novo_credito[:,19])\n",
    "naive_bayes.predict(novo_credito)"
   ]
  },
  {
   "cell_type": "code",
   "execution_count": null,
   "metadata": {},
   "outputs": [],
   "source": []
  }
 ],
 "metadata": {
  "kernelspec": {
   "display_name": "Python 3",
   "language": "python",
   "name": "python3"
  },
  "language_info": {
   "codemirror_mode": {
    "name": "ipython",
    "version": 3
   },
   "file_extension": ".py",
   "mimetype": "text/x-python",
   "name": "python",
   "nbconvert_exporter": "python",
   "pygments_lexer": "ipython3",
   "version": "3.7.4"
  }
 },
 "nbformat": 4,
 "nbformat_minor": 2
}
